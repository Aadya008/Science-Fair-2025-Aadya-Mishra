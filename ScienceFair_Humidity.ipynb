{
 "cells": [
  {
   "cell_type": "code",
   "execution_count": 16,
   "metadata": {},
   "outputs": [],
   "source": [
    "import pandas as pd\n",
    "import numpy as np\n",
    "import seaborn as sns\n",
    "import matplotlib.pyplot as plt\n",
    "%matplotlib inline"
   ]
  },
  {
   "cell_type": "code",
   "execution_count": 17,
   "metadata": {},
   "outputs": [],
   "source": [
    "df = pd.read_csv('Science Fair 2025 Data Document - IV_Humidity.csv')"
   ]
  },
  {
   "cell_type": "code",
   "execution_count": 18,
   "metadata": {},
   "outputs": [
    {
     "data": {
      "text/html": [
       "<div>\n",
       "<style scoped>\n",
       "    .dataframe tbody tr th:only-of-type {\n",
       "        vertical-align: middle;\n",
       "    }\n",
       "\n",
       "    .dataframe tbody tr th {\n",
       "        vertical-align: top;\n",
       "    }\n",
       "\n",
       "    .dataframe thead th {\n",
       "        text-align: right;\n",
       "    }\n",
       "</style>\n",
       "<table border=\"1\" class=\"dataframe\">\n",
       "  <thead>\n",
       "    <tr style=\"text-align: right;\">\n",
       "      <th></th>\n",
       "      <th>Trial #</th>\n",
       "      <th>Senario</th>\n",
       "      <th>PM2.5</th>\n",
       "      <th>PM1.0</th>\n",
       "      <th>PM10</th>\n",
       "      <th>HCHO</th>\n",
       "      <th>TVOC</th>\n",
       "      <th>AQI</th>\n",
       "      <th>Temperature</th>\n",
       "      <th>Humidity</th>\n",
       "    </tr>\n",
       "  </thead>\n",
       "  <tbody>\n",
       "    <tr>\n",
       "      <th>0</th>\n",
       "      <td>1</td>\n",
       "      <td>Hot, Steaming Water relasing for change in HUM...</td>\n",
       "      <td>3</td>\n",
       "      <td>2</td>\n",
       "      <td>3</td>\n",
       "      <td>0.0333</td>\n",
       "      <td>0.224</td>\n",
       "      <td>1</td>\n",
       "      <td>26.3</td>\n",
       "      <td>83</td>\n",
       "    </tr>\n",
       "    <tr>\n",
       "      <th>1</th>\n",
       "      <td>2</td>\n",
       "      <td>Hot, Steaming Water relasing for change in HUM...</td>\n",
       "      <td>3</td>\n",
       "      <td>2</td>\n",
       "      <td>4</td>\n",
       "      <td>0.0200</td>\n",
       "      <td>0.133</td>\n",
       "      <td>1</td>\n",
       "      <td>27.1</td>\n",
       "      <td>80</td>\n",
       "    </tr>\n",
       "    <tr>\n",
       "      <th>2</th>\n",
       "      <td>3</td>\n",
       "      <td>Hot, Steaming Water relasing for change in HUM...</td>\n",
       "      <td>3</td>\n",
       "      <td>3</td>\n",
       "      <td>4</td>\n",
       "      <td>0.0200</td>\n",
       "      <td>0.138</td>\n",
       "      <td>1</td>\n",
       "      <td>27.2</td>\n",
       "      <td>82</td>\n",
       "    </tr>\n",
       "    <tr>\n",
       "      <th>3</th>\n",
       "      <td>4</td>\n",
       "      <td>Hot, Steaming Water relasing for change in HUM...</td>\n",
       "      <td>3</td>\n",
       "      <td>2</td>\n",
       "      <td>4</td>\n",
       "      <td>0.0210</td>\n",
       "      <td>0.141</td>\n",
       "      <td>1</td>\n",
       "      <td>27.2</td>\n",
       "      <td>83</td>\n",
       "    </tr>\n",
       "    <tr>\n",
       "      <th>4</th>\n",
       "      <td>5</td>\n",
       "      <td>Hot, Steaming Water relasing for change in HUM...</td>\n",
       "      <td>3</td>\n",
       "      <td>3</td>\n",
       "      <td>3</td>\n",
       "      <td>0.0210</td>\n",
       "      <td>0.142</td>\n",
       "      <td>1</td>\n",
       "      <td>27.3</td>\n",
       "      <td>84</td>\n",
       "    </tr>\n",
       "    <tr>\n",
       "      <th>5</th>\n",
       "      <td>6</td>\n",
       "      <td>Hot, Steaming Water relasing for change in HUM...</td>\n",
       "      <td>4</td>\n",
       "      <td>3</td>\n",
       "      <td>5</td>\n",
       "      <td>0.0200</td>\n",
       "      <td>0.137</td>\n",
       "      <td>1</td>\n",
       "      <td>27.4</td>\n",
       "      <td>85</td>\n",
       "    </tr>\n",
       "    <tr>\n",
       "      <th>6</th>\n",
       "      <td>7</td>\n",
       "      <td>Hot, Steaming Water relasing for change in HUM...</td>\n",
       "      <td>4</td>\n",
       "      <td>3</td>\n",
       "      <td>5</td>\n",
       "      <td>0.0196</td>\n",
       "      <td>0.133</td>\n",
       "      <td>1</td>\n",
       "      <td>27.4</td>\n",
       "      <td>86</td>\n",
       "    </tr>\n",
       "    <tr>\n",
       "      <th>7</th>\n",
       "      <td>8</td>\n",
       "      <td>Hot, Steaming Water relasing for change in HUM...</td>\n",
       "      <td>4</td>\n",
       "      <td>2</td>\n",
       "      <td>4</td>\n",
       "      <td>0.0190</td>\n",
       "      <td>0.130</td>\n",
       "      <td>1</td>\n",
       "      <td>27.5</td>\n",
       "      <td>86</td>\n",
       "    </tr>\n",
       "    <tr>\n",
       "      <th>8</th>\n",
       "      <td>9</td>\n",
       "      <td>Hot, Steaming Water relasing for change in HUM...</td>\n",
       "      <td>4</td>\n",
       "      <td>3</td>\n",
       "      <td>4</td>\n",
       "      <td>0.0180</td>\n",
       "      <td>0.126</td>\n",
       "      <td>1</td>\n",
       "      <td>27.6</td>\n",
       "      <td>87</td>\n",
       "    </tr>\n",
       "    <tr>\n",
       "      <th>9</th>\n",
       "      <td>10</td>\n",
       "      <td>Hot, Steaming Water relasing for change in HUM...</td>\n",
       "      <td>4</td>\n",
       "      <td>3</td>\n",
       "      <td>5</td>\n",
       "      <td>0.0180</td>\n",
       "      <td>0.120</td>\n",
       "      <td>1</td>\n",
       "      <td>27.6</td>\n",
       "      <td>87</td>\n",
       "    </tr>\n",
       "  </tbody>\n",
       "</table>\n",
       "</div>"
      ],
      "text/plain": [
       "   Trial #                                            Senario  PM2.5  PM1.0  \\\n",
       "0        1  Hot, Steaming Water relasing for change in HUM...      3      2   \n",
       "1        2  Hot, Steaming Water relasing for change in HUM...      3      2   \n",
       "2        3  Hot, Steaming Water relasing for change in HUM...      3      3   \n",
       "3        4  Hot, Steaming Water relasing for change in HUM...      3      2   \n",
       "4        5  Hot, Steaming Water relasing for change in HUM...      3      3   \n",
       "5        6  Hot, Steaming Water relasing for change in HUM...      4      3   \n",
       "6        7  Hot, Steaming Water relasing for change in HUM...      4      3   \n",
       "7        8  Hot, Steaming Water relasing for change in HUM...      4      2   \n",
       "8        9  Hot, Steaming Water relasing for change in HUM...      4      3   \n",
       "9       10  Hot, Steaming Water relasing for change in HUM...      4      3   \n",
       "\n",
       "   PM10    HCHO   TVOC  AQI  Temperature  Humidity  \n",
       "0     3  0.0333  0.224    1         26.3        83  \n",
       "1     4  0.0200  0.133    1         27.1        80  \n",
       "2     4  0.0200  0.138    1         27.2        82  \n",
       "3     4  0.0210  0.141    1         27.2        83  \n",
       "4     3  0.0210  0.142    1         27.3        84  \n",
       "5     5  0.0200  0.137    1         27.4        85  \n",
       "6     5  0.0196  0.133    1         27.4        86  \n",
       "7     4  0.0190  0.130    1         27.5        86  \n",
       "8     4  0.0180  0.126    1         27.6        87  \n",
       "9     5  0.0180  0.120    1         27.6        87  "
      ]
     },
     "execution_count": 18,
     "metadata": {},
     "output_type": "execute_result"
    }
   ],
   "source": [
    "df.head(15)"
   ]
  },
  {
   "cell_type": "code",
   "execution_count": 19,
   "metadata": {},
   "outputs": [
    {
     "name": "stdout",
     "output_type": "stream",
     "text": [
      "<class 'pandas.core.frame.DataFrame'>\n",
      "RangeIndex: 10 entries, 0 to 9\n",
      "Data columns (total 10 columns):\n",
      " #   Column       Non-Null Count  Dtype  \n",
      "---  ------       --------------  -----  \n",
      " 0   Trial #      10 non-null     int64  \n",
      " 1   Senario      10 non-null     object \n",
      " 2   PM2.5        10 non-null     int64  \n",
      " 3   PM1.0        10 non-null     int64  \n",
      " 4   PM10         10 non-null     int64  \n",
      " 5   HCHO         10 non-null     float64\n",
      " 6   TVOC         10 non-null     float64\n",
      " 7   AQI          10 non-null     int64  \n",
      " 8   Temperature  10 non-null     float64\n",
      " 9   Humidity     10 non-null     int64  \n",
      "dtypes: float64(3), int64(6), object(1)\n",
      "memory usage: 928.0+ bytes\n"
     ]
    }
   ],
   "source": [
    "df.info()"
   ]
  },
  {
   "cell_type": "code",
   "execution_count": 20,
   "metadata": {},
   "outputs": [
    {
     "data": {
      "text/html": [
       "<div>\n",
       "<style scoped>\n",
       "    .dataframe tbody tr th:only-of-type {\n",
       "        vertical-align: middle;\n",
       "    }\n",
       "\n",
       "    .dataframe tbody tr th {\n",
       "        vertical-align: top;\n",
       "    }\n",
       "\n",
       "    .dataframe thead th {\n",
       "        text-align: right;\n",
       "    }\n",
       "</style>\n",
       "<table border=\"1\" class=\"dataframe\">\n",
       "  <thead>\n",
       "    <tr style=\"text-align: right;\">\n",
       "      <th></th>\n",
       "      <th>Trial #</th>\n",
       "      <th>PM2.5</th>\n",
       "      <th>PM1.0</th>\n",
       "      <th>PM10</th>\n",
       "      <th>HCHO</th>\n",
       "      <th>TVOC</th>\n",
       "      <th>AQI</th>\n",
       "      <th>Temperature</th>\n",
       "      <th>Humidity</th>\n",
       "    </tr>\n",
       "  </thead>\n",
       "  <tbody>\n",
       "    <tr>\n",
       "      <th>count</th>\n",
       "      <td>10.00000</td>\n",
       "      <td>10.000000</td>\n",
       "      <td>10.000000</td>\n",
       "      <td>10.000000</td>\n",
       "      <td>10.00000</td>\n",
       "      <td>10.000000</td>\n",
       "      <td>10.0</td>\n",
       "      <td>10.000000</td>\n",
       "      <td>10.000000</td>\n",
       "    </tr>\n",
       "    <tr>\n",
       "      <th>mean</th>\n",
       "      <td>5.50000</td>\n",
       "      <td>3.500000</td>\n",
       "      <td>2.600000</td>\n",
       "      <td>4.100000</td>\n",
       "      <td>0.02099</td>\n",
       "      <td>0.142400</td>\n",
       "      <td>1.0</td>\n",
       "      <td>27.260000</td>\n",
       "      <td>84.300000</td>\n",
       "    </tr>\n",
       "    <tr>\n",
       "      <th>std</th>\n",
       "      <td>3.02765</td>\n",
       "      <td>0.527046</td>\n",
       "      <td>0.516398</td>\n",
       "      <td>0.737865</td>\n",
       "      <td>0.00445</td>\n",
       "      <td>0.029459</td>\n",
       "      <td>0.0</td>\n",
       "      <td>0.377712</td>\n",
       "      <td>2.311805</td>\n",
       "    </tr>\n",
       "    <tr>\n",
       "      <th>min</th>\n",
       "      <td>1.00000</td>\n",
       "      <td>3.000000</td>\n",
       "      <td>2.000000</td>\n",
       "      <td>3.000000</td>\n",
       "      <td>0.01800</td>\n",
       "      <td>0.120000</td>\n",
       "      <td>1.0</td>\n",
       "      <td>26.300000</td>\n",
       "      <td>80.000000</td>\n",
       "    </tr>\n",
       "    <tr>\n",
       "      <th>25%</th>\n",
       "      <td>3.25000</td>\n",
       "      <td>3.000000</td>\n",
       "      <td>2.000000</td>\n",
       "      <td>4.000000</td>\n",
       "      <td>0.01915</td>\n",
       "      <td>0.130750</td>\n",
       "      <td>1.0</td>\n",
       "      <td>27.200000</td>\n",
       "      <td>83.000000</td>\n",
       "    </tr>\n",
       "    <tr>\n",
       "      <th>50%</th>\n",
       "      <td>5.50000</td>\n",
       "      <td>3.500000</td>\n",
       "      <td>3.000000</td>\n",
       "      <td>4.000000</td>\n",
       "      <td>0.02000</td>\n",
       "      <td>0.135000</td>\n",
       "      <td>1.0</td>\n",
       "      <td>27.350000</td>\n",
       "      <td>84.500000</td>\n",
       "    </tr>\n",
       "    <tr>\n",
       "      <th>75%</th>\n",
       "      <td>7.75000</td>\n",
       "      <td>4.000000</td>\n",
       "      <td>3.000000</td>\n",
       "      <td>4.750000</td>\n",
       "      <td>0.02075</td>\n",
       "      <td>0.140250</td>\n",
       "      <td>1.0</td>\n",
       "      <td>27.475000</td>\n",
       "      <td>86.000000</td>\n",
       "    </tr>\n",
       "    <tr>\n",
       "      <th>max</th>\n",
       "      <td>10.00000</td>\n",
       "      <td>4.000000</td>\n",
       "      <td>3.000000</td>\n",
       "      <td>5.000000</td>\n",
       "      <td>0.03330</td>\n",
       "      <td>0.224000</td>\n",
       "      <td>1.0</td>\n",
       "      <td>27.600000</td>\n",
       "      <td>87.000000</td>\n",
       "    </tr>\n",
       "  </tbody>\n",
       "</table>\n",
       "</div>"
      ],
      "text/plain": [
       "        Trial #      PM2.5      PM1.0       PM10      HCHO       TVOC   AQI  \\\n",
       "count  10.00000  10.000000  10.000000  10.000000  10.00000  10.000000  10.0   \n",
       "mean    5.50000   3.500000   2.600000   4.100000   0.02099   0.142400   1.0   \n",
       "std     3.02765   0.527046   0.516398   0.737865   0.00445   0.029459   0.0   \n",
       "min     1.00000   3.000000   2.000000   3.000000   0.01800   0.120000   1.0   \n",
       "25%     3.25000   3.000000   2.000000   4.000000   0.01915   0.130750   1.0   \n",
       "50%     5.50000   3.500000   3.000000   4.000000   0.02000   0.135000   1.0   \n",
       "75%     7.75000   4.000000   3.000000   4.750000   0.02075   0.140250   1.0   \n",
       "max    10.00000   4.000000   3.000000   5.000000   0.03330   0.224000   1.0   \n",
       "\n",
       "       Temperature   Humidity  \n",
       "count    10.000000  10.000000  \n",
       "mean     27.260000  84.300000  \n",
       "std       0.377712   2.311805  \n",
       "min      26.300000  80.000000  \n",
       "25%      27.200000  83.000000  \n",
       "50%      27.350000  84.500000  \n",
       "75%      27.475000  86.000000  \n",
       "max      27.600000  87.000000  "
      ]
     },
     "execution_count": 20,
     "metadata": {},
     "output_type": "execute_result"
    }
   ],
   "source": [
    "df.describe()"
   ]
  },
  {
   "cell_type": "code",
   "execution_count": 21,
   "metadata": {},
   "outputs": [
    {
     "data": {
      "text/plain": [
       "Index(['Trial #', 'Senario', 'PM2.5', 'PM1.0', 'PM10', 'HCHO', 'TVOC', 'AQI',\n",
       "       'Temperature', 'Humidity'],\n",
       "      dtype='object')"
      ]
     },
     "execution_count": 21,
     "metadata": {},
     "output_type": "execute_result"
    }
   ],
   "source": [
    "df.columns"
   ]
  },
  {
   "cell_type": "code",
   "execution_count": 22,
   "metadata": {},
   "outputs": [
    {
     "data": {
      "text/plain": [
       "(10, 10)"
      ]
     },
     "execution_count": 22,
     "metadata": {},
     "output_type": "execute_result"
    }
   ],
   "source": [
    "df.shape"
   ]
  },
  {
   "cell_type": "code",
   "execution_count": 23,
   "metadata": {},
   "outputs": [
    {
     "data": {
      "text/plain": [
       "Trial #        10\n",
       "Senario        10\n",
       "PM2.5          10\n",
       "PM1.0          10\n",
       "PM10           10\n",
       "HCHO           10\n",
       "TVOC           10\n",
       "AQI            10\n",
       "Temperature    10\n",
       "Humidity       10\n",
       "dtype: int64"
      ]
     },
     "execution_count": 23,
     "metadata": {},
     "output_type": "execute_result"
    }
   ],
   "source": [
    "df.count()"
   ]
  },
  {
   "cell_type": "code",
   "execution_count": 24,
   "metadata": {},
   "outputs": [
    {
     "data": {
      "text/plain": [
       "Trial #        0\n",
       "Senario        0\n",
       "PM2.5          0\n",
       "PM1.0          0\n",
       "PM10           0\n",
       "HCHO           0\n",
       "TVOC           0\n",
       "AQI            0\n",
       "Temperature    0\n",
       "Humidity       0\n",
       "dtype: int64"
      ]
     },
     "execution_count": 24,
     "metadata": {},
     "output_type": "execute_result"
    }
   ],
   "source": [
    "df.isna().sum()"
   ]
  },
  {
   "cell_type": "code",
   "execution_count": 25,
   "metadata": {},
   "outputs": [
    {
     "data": {
      "text/plain": [
       "0"
      ]
     },
     "execution_count": 25,
     "metadata": {},
     "output_type": "execute_result"
    }
   ],
   "source": [
    "df.duplicated().sum()"
   ]
  },
  {
   "cell_type": "code",
   "execution_count": 26,
   "metadata": {},
   "outputs": [
    {
     "data": {
      "text/plain": [
       "Text(0, 0.5, 'PM2.5 (ug/m^3)')"
      ]
     },
     "execution_count": 26,
     "metadata": {},
     "output_type": "execute_result"
    },
    {
     "data": {
      "image/png": "[encoded data removed]",
      "text/plain": [
       "<Figure size 400x400 with 1 Axes>"
      ]
     },
     "metadata": {},
     "output_type": "display_data"
    }
   ],
   "source": [
    "fig,ax = plt.subplots(figsize=(4,4))\n",
    "sns.barplot(x='Humidity',y='PM2.5',data=df)\n",
    "plt.title('PM2.5 Vs Humidity')\n",
    "plt.xlabel('Humidity (%)')\n",
    "plt.ylabel('PM2.5 (ug/m^3)')"
   ]
  },
  {
   "cell_type": "code",
   "execution_count": 27,
   "metadata": {},
   "outputs": [
    {
     "data": {
      "text/plain": [
       "Text(0, 0.5, 'PM1.0 (ug/m^3)')"
      ]
     },
     "execution_count": 27,
     "metadata": {},
     "output_type": "execute_result"
    },
    {
     "data": {
      "image/png": "[encoded data removed]",
      "text/plain": [
       "<Figure size 400x400 with 1 Axes>"
      ]
     },
     "metadata": {},
     "output_type": "display_data"
    }
   ],
   "source": [
    "fig,ax = plt.subplots(figsize=(4,4))\n",
    "sns.barplot(x='Humidity',y='PM1.0',data=df)\n",
    "plt.title('PM1.0 Vs Humidity')\n",
    "plt.xlabel('Humidty (%)')\n",
    "plt.ylabel('PM1.0 (ug/m^3)')"
   ]
  },
  {
   "cell_type": "code",
   "execution_count": 28,
   "metadata": {},
   "outputs": [
    {
     "data": {
      "text/plain": [
       "Text(0, 0.5, 'PM10 (ug/m^3)')"
      ]
     },
     "execution_count": 28,
     "metadata": {},
     "output_type": "execute_result"
    },
    {
     "data": {
      "image/png": "[encoded data removed]",
      "text/plain": [
       "<Figure size 400x400 with 1 Axes>"
      ]
     },
     "metadata": {},
     "output_type": "display_data"
    }
   ],
   "source": [
    "fig,ax = plt.subplots(figsize=(4,4))\n",
    "sns.barplot(x='Humidity',y='PM10',data=df)\n",
    "plt.title('PM10 Vs Humidity')\n",
    "plt.xlabel('Humidty (%)')\n",
    "plt.ylabel('PM10 (ug/m^3)')"
   ]
  },
  {
   "cell_type": "code",
   "execution_count": 29,
   "metadata": {},
   "outputs": [
    {
     "data": {
      "text/plain": [
       "Text(0, 0.5, 'TVOC (total volatile organic compounds) mg/m^3')"
      ]
     },
     "execution_count": 29,
     "metadata": {},
     "output_type": "execute_result"
    },
    {
     "data": {
      "image/png": "[encoded data removed]",
      "text/plain": [
       "<Figure size 400x400 with 1 Axes>"
      ]
     },
     "metadata": {},
     "output_type": "display_data"
    }
   ],
   "source": [
    "fig,ax = plt.subplots(figsize=(4,4))\n",
    "sns.barplot(x='Humidity',y='TVOC',data=df)\n",
    "plt.title('TVOC Vs Humidity')\n",
    "plt.xlabel('Humidty (%)')\n",
    "plt.ylabel('TVOC (total volatile organic compounds) mg/m^3')"
   ]
  }
 ],
 "metadata": {
  "kernelspec": {
   "display_name": "Python 3",
   "language": "python",
   "name": "python3"
  },
  "language_info": {
   "codemirror_mode": {
    "name": "ipython",
    "version": 3
   },
   "file_extension": ".py",
   "mimetype": "text/x-python",
   "name": "python",
   "nbconvert_exporter": "python",
   "pygments_lexer": "ipython3",
   "version": "3.9.6"
  },
  "orig_nbformat": 4
 },
 "nbformat": 4,
 "nbformat_minor": 2
}
