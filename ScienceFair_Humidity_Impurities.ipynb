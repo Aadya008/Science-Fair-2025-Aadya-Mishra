{
 "cells": [
  {
   "cell_type": "code",
   "execution_count": 113,
   "metadata": {},
   "outputs": [],
   "source": [
    "import pandas as pd\n",
    "import numpy as np\n",
    "import seaborn as sns\n",
    "import matplotlib.pyplot as plt\n",
    "%matplotlib inline"
   ]
  },
  {
   "cell_type": "code",
   "execution_count": 114,
   "metadata": {},
   "outputs": [],
   "source": [
    "df = pd.read_csv('Science Fair 2025 Data Document - IV_Humidity_Impurities.csv')"
   ]
  },
  {
   "cell_type": "code",
   "execution_count": 115,
   "metadata": {},
   "outputs": [
    {
     "data": {
      "text/html": [
       "<div>\n",
       "<style scoped>\n",
       "    .dataframe tbody tr th:only-of-type {\n",
       "        vertical-align: middle;\n",
       "    }\n",
       "\n",
       "    .dataframe tbody tr th {\n",
       "        vertical-align: top;\n",
       "    }\n",
       "\n",
       "    .dataframe thead th {\n",
       "        text-align: right;\n",
       "    }\n",
       "</style>\n",
       "<table border=\"1\" class=\"dataframe\">\n",
       "  <thead>\n",
       "    <tr style=\"text-align: right;\">\n",
       "      <th></th>\n",
       "      <th>Trial #</th>\n",
       "      <th>Senario</th>\n",
       "      <th>PM2.5</th>\n",
       "      <th>PM1.0</th>\n",
       "      <th>PM10</th>\n",
       "      <th>HCHO</th>\n",
       "      <th>TVOC</th>\n",
       "      <th>AQI</th>\n",
       "      <th>Temperature</th>\n",
       "      <th>Humidity</th>\n",
       "    </tr>\n",
       "  </thead>\n",
       "  <tbody>\n",
       "    <tr>\n",
       "      <th>0</th>\n",
       "      <td>1</td>\n",
       "      <td>Candle with Steaming Water for a change in HUM...</td>\n",
       "      <td>376</td>\n",
       "      <td>234</td>\n",
       "      <td>427</td>\n",
       "      <td>0.804</td>\n",
       "      <td>5.000</td>\n",
       "      <td>6</td>\n",
       "      <td>21.5</td>\n",
       "      <td>84</td>\n",
       "    </tr>\n",
       "    <tr>\n",
       "      <th>1</th>\n",
       "      <td>2</td>\n",
       "      <td>Candle with Steaming Water for a change in HUM...</td>\n",
       "      <td>381</td>\n",
       "      <td>233</td>\n",
       "      <td>438</td>\n",
       "      <td>0.819</td>\n",
       "      <td>5.000</td>\n",
       "      <td>6</td>\n",
       "      <td>21.9</td>\n",
       "      <td>91</td>\n",
       "    </tr>\n",
       "    <tr>\n",
       "      <th>2</th>\n",
       "      <td>3</td>\n",
       "      <td>Candle with Steaming Water for a change in HUM...</td>\n",
       "      <td>208</td>\n",
       "      <td>131</td>\n",
       "      <td>231</td>\n",
       "      <td>0.674</td>\n",
       "      <td>5.000</td>\n",
       "      <td>6</td>\n",
       "      <td>25.0</td>\n",
       "      <td>96</td>\n",
       "    </tr>\n",
       "    <tr>\n",
       "      <th>3</th>\n",
       "      <td>4</td>\n",
       "      <td>Incense with Steaming Water for a change in HU...</td>\n",
       "      <td>999</td>\n",
       "      <td>344</td>\n",
       "      <td>999</td>\n",
       "      <td>0.935</td>\n",
       "      <td>5.000</td>\n",
       "      <td>6</td>\n",
       "      <td>26.5</td>\n",
       "      <td>61</td>\n",
       "    </tr>\n",
       "    <tr>\n",
       "      <th>4</th>\n",
       "      <td>5</td>\n",
       "      <td>Incense with Steaming Water for a change in HU...</td>\n",
       "      <td>999</td>\n",
       "      <td>424</td>\n",
       "      <td>999</td>\n",
       "      <td>1.000</td>\n",
       "      <td>5.000</td>\n",
       "      <td>6</td>\n",
       "      <td>26.6</td>\n",
       "      <td>66</td>\n",
       "    </tr>\n",
       "    <tr>\n",
       "      <th>5</th>\n",
       "      <td>6</td>\n",
       "      <td>Incense with Steaming Water for a change in HU...</td>\n",
       "      <td>999</td>\n",
       "      <td>424</td>\n",
       "      <td>999</td>\n",
       "      <td>1.000</td>\n",
       "      <td>5.000</td>\n",
       "      <td>6</td>\n",
       "      <td>27.0</td>\n",
       "      <td>62</td>\n",
       "    </tr>\n",
       "    <tr>\n",
       "      <th>6</th>\n",
       "      <td>7</td>\n",
       "      <td>Match with Steaming Water for a change in HUMI...</td>\n",
       "      <td>981</td>\n",
       "      <td>302</td>\n",
       "      <td>999</td>\n",
       "      <td>0.490</td>\n",
       "      <td>3.600</td>\n",
       "      <td>6</td>\n",
       "      <td>26.9</td>\n",
       "      <td>47</td>\n",
       "    </tr>\n",
       "    <tr>\n",
       "      <th>7</th>\n",
       "      <td>8</td>\n",
       "      <td>Match with Steaming Water for a change in HUMI...</td>\n",
       "      <td>989</td>\n",
       "      <td>303</td>\n",
       "      <td>999</td>\n",
       "      <td>0.500</td>\n",
       "      <td>3.714</td>\n",
       "      <td>6</td>\n",
       "      <td>26.9</td>\n",
       "      <td>48</td>\n",
       "    </tr>\n",
       "    <tr>\n",
       "      <th>8</th>\n",
       "      <td>9</td>\n",
       "      <td>Match with Steaming Water for a change in HUMI...</td>\n",
       "      <td>979</td>\n",
       "      <td>300</td>\n",
       "      <td>999</td>\n",
       "      <td>0.552</td>\n",
       "      <td>4.156</td>\n",
       "      <td>6</td>\n",
       "      <td>27.1</td>\n",
       "      <td>56</td>\n",
       "    </tr>\n",
       "    <tr>\n",
       "      <th>9</th>\n",
       "      <td>10</td>\n",
       "      <td>Match with Steaming Water for a change in HUMI...</td>\n",
       "      <td>973</td>\n",
       "      <td>302</td>\n",
       "      <td>999</td>\n",
       "      <td>0.554</td>\n",
       "      <td>4.174</td>\n",
       "      <td>6</td>\n",
       "      <td>27.1</td>\n",
       "      <td>57</td>\n",
       "    </tr>\n",
       "  </tbody>\n",
       "</table>\n",
       "</div>"
      ],
      "text/plain": [
       "   Trial #                                            Senario  PM2.5  PM1.0  \\\n",
       "0        1  Candle with Steaming Water for a change in HUM...    376    234   \n",
       "1        2  Candle with Steaming Water for a change in HUM...    381    233   \n",
       "2        3  Candle with Steaming Water for a change in HUM...    208    131   \n",
       "3        4  Incense with Steaming Water for a change in HU...    999    344   \n",
       "4        5  Incense with Steaming Water for a change in HU...    999    424   \n",
       "5        6  Incense with Steaming Water for a change in HU...    999    424   \n",
       "6        7  Match with Steaming Water for a change in HUMI...    981    302   \n",
       "7        8  Match with Steaming Water for a change in HUMI...    989    303   \n",
       "8        9  Match with Steaming Water for a change in HUMI...    979    300   \n",
       "9       10  Match with Steaming Water for a change in HUMI...    973    302   \n",
       "\n",
       "   PM10   HCHO   TVOC  AQI  Temperature  Humidity  \n",
       "0   427  0.804  5.000    6         21.5        84  \n",
       "1   438  0.819  5.000    6         21.9        91  \n",
       "2   231  0.674  5.000    6         25.0        96  \n",
       "3   999  0.935  5.000    6         26.5        61  \n",
       "4   999  1.000  5.000    6         26.6        66  \n",
       "5   999  1.000  5.000    6         27.0        62  \n",
       "6   999  0.490  3.600    6         26.9        47  \n",
       "7   999  0.500  3.714    6         26.9        48  \n",
       "8   999  0.552  4.156    6         27.1        56  \n",
       "9   999  0.554  4.174    6         27.1        57  "
      ]
     },
     "execution_count": 115,
     "metadata": {},
     "output_type": "execute_result"
    }
   ],
   "source": [
    "df.head(15)"
   ]
  },
  {
   "cell_type": "code",
   "execution_count": 116,
   "metadata": {},
   "outputs": [
    {
     "name": "stdout",
     "output_type": "stream",
     "text": [
      "<class 'pandas.core.frame.DataFrame'>\n",
      "RangeIndex: 10 entries, 0 to 9\n",
      "Data columns (total 10 columns):\n",
      " #   Column       Non-Null Count  Dtype  \n",
      "---  ------       --------------  -----  \n",
      " 0   Trial #      10 non-null     int64  \n",
      " 1   Senario      10 non-null     object \n",
      " 2   PM2.5        10 non-null     int64  \n",
      " 3   PM1.0        10 non-null     int64  \n",
      " 4   PM10         10 non-null     int64  \n",
      " 5   HCHO         10 non-null     float64\n",
      " 6   TVOC         10 non-null     float64\n",
      " 7   AQI          10 non-null     int64  \n",
      " 8   Temperature  10 non-null     float64\n",
      " 9   Humidity     10 non-null     int64  \n",
      "dtypes: float64(3), int64(6), object(1)\n",
      "memory usage: 928.0+ bytes\n"
     ]
    }
   ],
   "source": [
    "df.info()"
   ]
  },
  {
   "cell_type": "code",
   "execution_count": 117,
   "metadata": {},
   "outputs": [
    {
     "data": {
      "text/html": [
       "<div>\n",
       "<style scoped>\n",
       "    .dataframe tbody tr th:only-of-type {\n",
       "        vertical-align: middle;\n",
       "    }\n",
       "\n",
       "    .dataframe tbody tr th {\n",
       "        vertical-align: top;\n",
       "    }\n",
       "\n",
       "    .dataframe thead th {\n",
       "        text-align: right;\n",
       "    }\n",
       "</style>\n",
       "<table border=\"1\" class=\"dataframe\">\n",
       "  <thead>\n",
       "    <tr style=\"text-align: right;\">\n",
       "      <th></th>\n",
       "      <th>Trial #</th>\n",
       "      <th>PM2.5</th>\n",
       "      <th>PM1.0</th>\n",
       "      <th>PM10</th>\n",
       "      <th>HCHO</th>\n",
       "      <th>TVOC</th>\n",
       "      <th>AQI</th>\n",
       "      <th>Temperature</th>\n",
       "      <th>Humidity</th>\n",
       "    </tr>\n",
       "  </thead>\n",
       "  <tbody>\n",
       "    <tr>\n",
       "      <th>count</th>\n",
       "      <td>10.00000</td>\n",
       "      <td>10.000000</td>\n",
       "      <td>10.00000</td>\n",
       "      <td>10.000000</td>\n",
       "      <td>10.000000</td>\n",
       "      <td>10.000000</td>\n",
       "      <td>10.0</td>\n",
       "      <td>10.000000</td>\n",
       "      <td>10.000000</td>\n",
       "    </tr>\n",
       "    <tr>\n",
       "      <th>mean</th>\n",
       "      <td>5.50000</td>\n",
       "      <td>788.400000</td>\n",
       "      <td>299.70000</td>\n",
       "      <td>808.900000</td>\n",
       "      <td>0.732800</td>\n",
       "      <td>4.564400</td>\n",
       "      <td>6.0</td>\n",
       "      <td>25.650000</td>\n",
       "      <td>66.800000</td>\n",
       "    </tr>\n",
       "    <tr>\n",
       "      <th>std</th>\n",
       "      <td>3.02765</td>\n",
       "      <td>325.526992</td>\n",
       "      <td>88.26104</td>\n",
       "      <td>310.974972</td>\n",
       "      <td>0.204787</td>\n",
       "      <td>0.587928</td>\n",
       "      <td>0.0</td>\n",
       "      <td>2.172684</td>\n",
       "      <td>17.478876</td>\n",
       "    </tr>\n",
       "    <tr>\n",
       "      <th>min</th>\n",
       "      <td>1.00000</td>\n",
       "      <td>208.000000</td>\n",
       "      <td>131.00000</td>\n",
       "      <td>231.000000</td>\n",
       "      <td>0.490000</td>\n",
       "      <td>3.600000</td>\n",
       "      <td>6.0</td>\n",
       "      <td>21.500000</td>\n",
       "      <td>47.000000</td>\n",
       "    </tr>\n",
       "    <tr>\n",
       "      <th>25%</th>\n",
       "      <td>3.25000</td>\n",
       "      <td>529.000000</td>\n",
       "      <td>250.50000</td>\n",
       "      <td>578.250000</td>\n",
       "      <td>0.552500</td>\n",
       "      <td>4.160500</td>\n",
       "      <td>6.0</td>\n",
       "      <td>25.375000</td>\n",
       "      <td>56.250000</td>\n",
       "    </tr>\n",
       "    <tr>\n",
       "      <th>50%</th>\n",
       "      <td>5.50000</td>\n",
       "      <td>980.000000</td>\n",
       "      <td>302.00000</td>\n",
       "      <td>999.000000</td>\n",
       "      <td>0.739000</td>\n",
       "      <td>5.000000</td>\n",
       "      <td>6.0</td>\n",
       "      <td>26.750000</td>\n",
       "      <td>61.500000</td>\n",
       "    </tr>\n",
       "    <tr>\n",
       "      <th>75%</th>\n",
       "      <td>7.75000</td>\n",
       "      <td>996.500000</td>\n",
       "      <td>333.75000</td>\n",
       "      <td>999.000000</td>\n",
       "      <td>0.906000</td>\n",
       "      <td>5.000000</td>\n",
       "      <td>6.0</td>\n",
       "      <td>26.975000</td>\n",
       "      <td>79.500000</td>\n",
       "    </tr>\n",
       "    <tr>\n",
       "      <th>max</th>\n",
       "      <td>10.00000</td>\n",
       "      <td>999.000000</td>\n",
       "      <td>424.00000</td>\n",
       "      <td>999.000000</td>\n",
       "      <td>1.000000</td>\n",
       "      <td>5.000000</td>\n",
       "      <td>6.0</td>\n",
       "      <td>27.100000</td>\n",
       "      <td>96.000000</td>\n",
       "    </tr>\n",
       "  </tbody>\n",
       "</table>\n",
       "</div>"
      ],
      "text/plain": [
       "        Trial #       PM2.5      PM1.0        PM10       HCHO       TVOC  \\\n",
       "count  10.00000   10.000000   10.00000   10.000000  10.000000  10.000000   \n",
       "mean    5.50000  788.400000  299.70000  808.900000   0.732800   4.564400   \n",
       "std     3.02765  325.526992   88.26104  310.974972   0.204787   0.587928   \n",
       "min     1.00000  208.000000  131.00000  231.000000   0.490000   3.600000   \n",
       "25%     3.25000  529.000000  250.50000  578.250000   0.552500   4.160500   \n",
       "50%     5.50000  980.000000  302.00000  999.000000   0.739000   5.000000   \n",
       "75%     7.75000  996.500000  333.75000  999.000000   0.906000   5.000000   \n",
       "max    10.00000  999.000000  424.00000  999.000000   1.000000   5.000000   \n",
       "\n",
       "        AQI  Temperature   Humidity  \n",
       "count  10.0    10.000000  10.000000  \n",
       "mean    6.0    25.650000  66.800000  \n",
       "std     0.0     2.172684  17.478876  \n",
       "min     6.0    21.500000  47.000000  \n",
       "25%     6.0    25.375000  56.250000  \n",
       "50%     6.0    26.750000  61.500000  \n",
       "75%     6.0    26.975000  79.500000  \n",
       "max     6.0    27.100000  96.000000  "
      ]
     },
     "execution_count": 117,
     "metadata": {},
     "output_type": "execute_result"
    }
   ],
   "source": [
    "df.describe()"
   ]
  },
  {
   "cell_type": "code",
   "execution_count": 118,
   "metadata": {},
   "outputs": [
    {
     "data": {
      "text/plain": [
       "Index(['Trial #', 'Senario', 'PM2.5', 'PM1.0', 'PM10', 'HCHO', 'TVOC', 'AQI',\n",
       "       'Temperature', 'Humidity'],\n",
       "      dtype='object')"
      ]
     },
     "execution_count": 118,
     "metadata": {},
     "output_type": "execute_result"
    }
   ],
   "source": [
    "df.columns"
   ]
  },
  {
   "cell_type": "code",
   "execution_count": 119,
   "metadata": {},
   "outputs": [
    {
     "data": {
      "text/plain": [
       "(10, 10)"
      ]
     },
     "execution_count": 119,
     "metadata": {},
     "output_type": "execute_result"
    }
   ],
   "source": [
    "df.shape"
   ]
  },
  {
   "cell_type": "code",
   "execution_count": 120,
   "metadata": {},
   "outputs": [
    {
     "data": {
      "text/plain": [
       "Trial #        10\n",
       "Senario        10\n",
       "PM2.5          10\n",
       "PM1.0          10\n",
       "PM10           10\n",
       "HCHO           10\n",
       "TVOC           10\n",
       "AQI            10\n",
       "Temperature    10\n",
       "Humidity       10\n",
       "dtype: int64"
      ]
     },
     "execution_count": 120,
     "metadata": {},
     "output_type": "execute_result"
    }
   ],
   "source": [
    "df.count()"
   ]
  },
  {
   "cell_type": "code",
   "execution_count": 121,
   "metadata": {},
   "outputs": [
    {
     "data": {
      "text/plain": [
       "Trial #        0\n",
       "Senario        0\n",
       "PM2.5          0\n",
       "PM1.0          0\n",
       "PM10           0\n",
       "HCHO           0\n",
       "TVOC           0\n",
       "AQI            0\n",
       "Temperature    0\n",
       "Humidity       0\n",
       "dtype: int64"
      ]
     },
     "execution_count": 121,
     "metadata": {},
     "output_type": "execute_result"
    }
   ],
   "source": [
    "df.isna().sum()"
   ]
  },
  {
   "cell_type": "code",
   "execution_count": 122,
   "metadata": {},
   "outputs": [
    {
     "data": {
      "text/plain": [
       "0"
      ]
     },
     "execution_count": 122,
     "metadata": {},
     "output_type": "execute_result"
    }
   ],
   "source": [
    "df.duplicated().sum()"
   ]
  },
  {
   "cell_type": "code",
   "execution_count": 123,
   "metadata": {},
   "outputs": [
    {
     "data": {
      "text/plain": [
       "Text(0, 0.5, 'PM2.5 (ug/m^3)')"
      ]
     },
     "execution_count": 123,
     "metadata": {},
     "output_type": "execute_result"
    },
    {
     "data": {
      "image/png": "[encoded data removed]",
      "text/plain": [
       "<Figure size 400x400 with 1 Axes>"
      ]
     },
     "metadata": {},
     "output_type": "display_data"
    }
   ],
   "source": [
    "fig,ax = plt.subplots(figsize=(4,4))\n",
    "sns.barplot(x='Humidity',y='PM2.5',data=df)\n",
    "plt.title('PM2.5 Vs Humidity')\n",
    "plt.xlabel('Humidity (%)')\n",
    "plt.ylabel('PM2.5 (ug/m^3)')"
   ]
  },
  {
   "cell_type": "code",
   "execution_count": 124,
   "metadata": {},
   "outputs": [
    {
     "data": {
      "text/plain": [
       "Text(0, 0.5, 'PM1.0 (ug/m^3)')"
      ]
     },
     "execution_count": 124,
     "metadata": {},
     "output_type": "execute_result"
    },
    {
     "data": {
      "image/png": "[encoded data removed]",
      "text/plain": [
       "<Figure size 400x400 with 1 Axes>"
      ]
     },
     "metadata": {},
     "output_type": "display_data"
    }
   ],
   "source": [
    "fig,ax = plt.subplots(figsize=(4,4))\n",
    "sns.barplot(x='Humidity',y='PM1.0',data=df)\n",
    "plt.title('PM1.0 Vs Humidity')\n",
    "plt.xlabel('Humidty (%)')\n",
    "plt.ylabel('PM1.0 (ug/m^3)')"
   ]
  },
  {
   "cell_type": "code",
   "execution_count": 125,
   "metadata": {},
   "outputs": [
    {
     "data": {
      "text/plain": [
       "Text(0, 0.5, 'PM10 (ug/m^3)')"
      ]
     },
     "execution_count": 125,
     "metadata": {},
     "output_type": "execute_result"
    },
    {
     "data": {
      "image/png": "[encoded data removed]",
      "text/plain": [
       "<Figure size 400x400 with 1 Axes>"
      ]
     },
     "metadata": {},
     "output_type": "display_data"
    }
   ],
   "source": [
    "fig,ax = plt.subplots(figsize=(4,4))\n",
    "sns.barplot(x='Humidity',y='PM10',data=df)\n",
    "plt.title('PM10 Vs Humidity')\n",
    "plt.xlabel('Humidty (%)')\n",
    "plt.ylabel('PM10 (ug/m^3)')"
   ]
  },
  {
   "cell_type": "code",
   "execution_count": 126,
   "metadata": {},
   "outputs": [
    {
     "data": {
      "text/plain": [
       "Text(0, 0.5, 'TVOC (total volatile organic compounds) mg/m^3')"
      ]
     },
     "execution_count": 126,
     "metadata": {},
     "output_type": "execute_result"
    },
    {
     "data": {
      "image/png": "[encoded data removed]",
      "text/plain": [
       "<Figure size 400x400 with 1 Axes>"
      ]
     },
     "metadata": {},
     "output_type": "display_data"
    }
   ],
   "source": [
    "fig,ax = plt.subplots(figsize=(4,4))\n",
    "sns.barplot(x='Humidity',y='TVOC',data=df)\n",
    "plt.title('TVOC Vs Humidity')\n",
    "plt.xlabel('Humidty (%)')\n",
    "plt.ylabel('TVOC (total volatile organic compounds) mg/m^3')"
   ]
  }
 ],
 "metadata": {
  "kernelspec": {
   "display_name": "Python 3",
   "language": "python",
   "name": "python3"
  },
  "language_info": {
   "codemirror_mode": {
    "name": "ipython",
    "version": 3
   },
   "file_extension": ".py",
   "mimetype": "text/x-python",
   "name": "python",
   "nbconvert_exporter": "python",
   "pygments_lexer": "ipython3",
   "version": "3.9.6"
  },
  "orig_nbformat": 4
 },
 "nbformat": 4,
 "nbformat_minor": 2
}
