{
 "cells": [
  {
   "cell_type": "code",
   "execution_count": 19,
   "metadata": {},
   "outputs": [],
   "source": [
    "import pandas as pd\n",
    "import numpy as np\n",
    "import seaborn as sns\n",
    "import matplotlib.pyplot as plt\n",
    "%matplotlib inline"
   ]
  },
  {
   "cell_type": "code",
   "execution_count": 20,
   "metadata": {},
   "outputs": [],
   "source": [
    "df = pd.read_csv('Science Fair 2025 Data Document - IV_Humidity_Temperature.csv')"
   ]
  },
  {
   "cell_type": "code",
   "execution_count": 21,
   "metadata": {},
   "outputs": [
    {
     "data": {
      "text/html": [
       "<div>\n",
       "<style scoped>\n",
       "    .dataframe tbody tr th:only-of-type {\n",
       "        vertical-align: middle;\n",
       "    }\n",
       "\n",
       "    .dataframe tbody tr th {\n",
       "        vertical-align: top;\n",
       "    }\n",
       "\n",
       "    .dataframe thead th {\n",
       "        text-align: right;\n",
       "    }\n",
       "</style>\n",
       "<table border=\"1\" class=\"dataframe\">\n",
       "  <thead>\n",
       "    <tr style=\"text-align: right;\">\n",
       "      <th></th>\n",
       "      <th>Trial #</th>\n",
       "      <th>Senario</th>\n",
       "      <th>PM2.5</th>\n",
       "      <th>PM1.0</th>\n",
       "      <th>PM10</th>\n",
       "      <th>HCHO</th>\n",
       "      <th>TVOC</th>\n",
       "      <th>AQI</th>\n",
       "      <th>Temperature</th>\n",
       "      <th>Humidity</th>\n",
       "    </tr>\n",
       "  </thead>\n",
       "  <tbody>\n",
       "    <tr>\n",
       "      <th>0</th>\n",
       "      <td>1</td>\n",
       "      <td>Ice with Steaming Water for a change in HUMIDI...</td>\n",
       "      <td>97</td>\n",
       "      <td>63</td>\n",
       "      <td>114</td>\n",
       "      <td>0.681</td>\n",
       "      <td>5.000</td>\n",
       "      <td>6</td>\n",
       "      <td>27.1</td>\n",
       "      <td>36</td>\n",
       "    </tr>\n",
       "    <tr>\n",
       "      <th>1</th>\n",
       "      <td>2</td>\n",
       "      <td>Ice with Steaming Water for a change in HUMIDI...</td>\n",
       "      <td>96</td>\n",
       "      <td>62</td>\n",
       "      <td>112</td>\n",
       "      <td>0.712</td>\n",
       "      <td>5.000</td>\n",
       "      <td>6</td>\n",
       "      <td>27.1</td>\n",
       "      <td>39</td>\n",
       "    </tr>\n",
       "    <tr>\n",
       "      <th>2</th>\n",
       "      <td>3</td>\n",
       "      <td>Ice with Steaming Water for a change in HUMIDI...</td>\n",
       "      <td>98</td>\n",
       "      <td>63</td>\n",
       "      <td>111</td>\n",
       "      <td>0.721</td>\n",
       "      <td>5.000</td>\n",
       "      <td>6</td>\n",
       "      <td>27.2</td>\n",
       "      <td>42</td>\n",
       "    </tr>\n",
       "    <tr>\n",
       "      <th>3</th>\n",
       "      <td>4</td>\n",
       "      <td>Ice with Steaming Water for a change in HUMIDI...</td>\n",
       "      <td>95</td>\n",
       "      <td>61</td>\n",
       "      <td>109</td>\n",
       "      <td>0.757</td>\n",
       "      <td>5.000</td>\n",
       "      <td>6</td>\n",
       "      <td>27.4</td>\n",
       "      <td>49</td>\n",
       "    </tr>\n",
       "    <tr>\n",
       "      <th>4</th>\n",
       "      <td>5</td>\n",
       "      <td>Ice with Steaming Water for a change in HUMIDI...</td>\n",
       "      <td>55</td>\n",
       "      <td>36</td>\n",
       "      <td>66</td>\n",
       "      <td>0.604</td>\n",
       "      <td>4.592</td>\n",
       "      <td>6</td>\n",
       "      <td>27.4</td>\n",
       "      <td>76</td>\n",
       "    </tr>\n",
       "    <tr>\n",
       "      <th>5</th>\n",
       "      <td>6</td>\n",
       "      <td>Ice with Steaming Water for a change in HUMIDI...</td>\n",
       "      <td>51</td>\n",
       "      <td>34</td>\n",
       "      <td>63</td>\n",
       "      <td>0.623</td>\n",
       "      <td>4.770</td>\n",
       "      <td>6</td>\n",
       "      <td>27.6</td>\n",
       "      <td>77</td>\n",
       "    </tr>\n",
       "    <tr>\n",
       "      <th>6</th>\n",
       "      <td>7</td>\n",
       "      <td>Ice with Steaming Water for a change in HUMIDI...</td>\n",
       "      <td>51</td>\n",
       "      <td>33</td>\n",
       "      <td>61</td>\n",
       "      <td>0.630</td>\n",
       "      <td>4.824</td>\n",
       "      <td>6</td>\n",
       "      <td>27.6</td>\n",
       "      <td>77</td>\n",
       "    </tr>\n",
       "    <tr>\n",
       "      <th>7</th>\n",
       "      <td>8</td>\n",
       "      <td>Ice with Steaming Water for a change in HUMIDI...</td>\n",
       "      <td>49</td>\n",
       "      <td>33</td>\n",
       "      <td>60</td>\n",
       "      <td>0.637</td>\n",
       "      <td>4.888</td>\n",
       "      <td>6</td>\n",
       "      <td>27.7</td>\n",
       "      <td>77</td>\n",
       "    </tr>\n",
       "    <tr>\n",
       "      <th>8</th>\n",
       "      <td>9</td>\n",
       "      <td>Ice with Steaming Water for a change in HUMIDI...</td>\n",
       "      <td>48</td>\n",
       "      <td>31</td>\n",
       "      <td>59</td>\n",
       "      <td>0.641</td>\n",
       "      <td>4.924</td>\n",
       "      <td>6</td>\n",
       "      <td>27.7</td>\n",
       "      <td>78</td>\n",
       "    </tr>\n",
       "    <tr>\n",
       "      <th>9</th>\n",
       "      <td>10</td>\n",
       "      <td>Ice with Steaming Water for a change in HUMIDI...</td>\n",
       "      <td>48</td>\n",
       "      <td>31</td>\n",
       "      <td>58</td>\n",
       "      <td>0.643</td>\n",
       "      <td>4.934</td>\n",
       "      <td>6</td>\n",
       "      <td>27.7</td>\n",
       "      <td>78</td>\n",
       "    </tr>\n",
       "  </tbody>\n",
       "</table>\n",
       "</div>"
      ],
      "text/plain": [
       "   Trial #                                            Senario  PM2.5  PM1.0  \\\n",
       "0        1  Ice with Steaming Water for a change in HUMIDI...     97     63   \n",
       "1        2  Ice with Steaming Water for a change in HUMIDI...     96     62   \n",
       "2        3  Ice with Steaming Water for a change in HUMIDI...     98     63   \n",
       "3        4  Ice with Steaming Water for a change in HUMIDI...     95     61   \n",
       "4        5  Ice with Steaming Water for a change in HUMIDI...     55     36   \n",
       "5        6  Ice with Steaming Water for a change in HUMIDI...     51     34   \n",
       "6        7  Ice with Steaming Water for a change in HUMIDI...     51     33   \n",
       "7        8  Ice with Steaming Water for a change in HUMIDI...     49     33   \n",
       "8        9  Ice with Steaming Water for a change in HUMIDI...     48     31   \n",
       "9       10  Ice with Steaming Water for a change in HUMIDI...     48     31   \n",
       "\n",
       "   PM10   HCHO   TVOC  AQI  Temperature  Humidity  \n",
       "0   114  0.681  5.000    6         27.1        36  \n",
       "1   112  0.712  5.000    6         27.1        39  \n",
       "2   111  0.721  5.000    6         27.2        42  \n",
       "3   109  0.757  5.000    6         27.4        49  \n",
       "4    66  0.604  4.592    6         27.4        76  \n",
       "5    63  0.623  4.770    6         27.6        77  \n",
       "6    61  0.630  4.824    6         27.6        77  \n",
       "7    60  0.637  4.888    6         27.7        77  \n",
       "8    59  0.641  4.924    6         27.7        78  \n",
       "9    58  0.643  4.934    6         27.7        78  "
      ]
     },
     "execution_count": 21,
     "metadata": {},
     "output_type": "execute_result"
    }
   ],
   "source": [
    "df.head(15)"
   ]
  },
  {
   "cell_type": "code",
   "execution_count": 22,
   "metadata": {},
   "outputs": [
    {
     "name": "stdout",
     "output_type": "stream",
     "text": [
      "<class 'pandas.core.frame.DataFrame'>\n",
      "RangeIndex: 10 entries, 0 to 9\n",
      "Data columns (total 10 columns):\n",
      " #   Column       Non-Null Count  Dtype  \n",
      "---  ------       --------------  -----  \n",
      " 0   Trial #      10 non-null     int64  \n",
      " 1   Senario      10 non-null     object \n",
      " 2   PM2.5        10 non-null     int64  \n",
      " 3   PM1.0        10 non-null     int64  \n",
      " 4   PM10         10 non-null     int64  \n",
      " 5   HCHO         10 non-null     float64\n",
      " 6   TVOC         10 non-null     float64\n",
      " 7   AQI          10 non-null     int64  \n",
      " 8   Temperature  10 non-null     float64\n",
      " 9   Humidity     10 non-null     int64  \n",
      "dtypes: float64(3), int64(6), object(1)\n",
      "memory usage: 928.0+ bytes\n"
     ]
    }
   ],
   "source": [
    "df.info()"
   ]
  },
  {
   "cell_type": "code",
   "execution_count": 23,
   "metadata": {},
   "outputs": [
    {
     "data": {
      "text/html": [
       "<div>\n",
       "<style scoped>\n",
       "    .dataframe tbody tr th:only-of-type {\n",
       "        vertical-align: middle;\n",
       "    }\n",
       "\n",
       "    .dataframe tbody tr th {\n",
       "        vertical-align: top;\n",
       "    }\n",
       "\n",
       "    .dataframe thead th {\n",
       "        text-align: right;\n",
       "    }\n",
       "</style>\n",
       "<table border=\"1\" class=\"dataframe\">\n",
       "  <thead>\n",
       "    <tr style=\"text-align: right;\">\n",
       "      <th></th>\n",
       "      <th>Trial #</th>\n",
       "      <th>PM2.5</th>\n",
       "      <th>PM1.0</th>\n",
       "      <th>PM10</th>\n",
       "      <th>HCHO</th>\n",
       "      <th>TVOC</th>\n",
       "      <th>AQI</th>\n",
       "      <th>Temperature</th>\n",
       "      <th>Humidity</th>\n",
       "    </tr>\n",
       "  </thead>\n",
       "  <tbody>\n",
       "    <tr>\n",
       "      <th>count</th>\n",
       "      <td>10.00000</td>\n",
       "      <td>10.000000</td>\n",
       "      <td>10.000000</td>\n",
       "      <td>10.000000</td>\n",
       "      <td>10.000000</td>\n",
       "      <td>10.000000</td>\n",
       "      <td>10.0</td>\n",
       "      <td>10.00000</td>\n",
       "      <td>10.00000</td>\n",
       "    </tr>\n",
       "    <tr>\n",
       "      <th>mean</th>\n",
       "      <td>5.50000</td>\n",
       "      <td>68.800000</td>\n",
       "      <td>44.700000</td>\n",
       "      <td>81.300000</td>\n",
       "      <td>0.664900</td>\n",
       "      <td>4.893200</td>\n",
       "      <td>6.0</td>\n",
       "      <td>27.45000</td>\n",
       "      <td>62.90000</td>\n",
       "    </tr>\n",
       "    <tr>\n",
       "      <th>std</th>\n",
       "      <td>3.02765</td>\n",
       "      <td>23.934169</td>\n",
       "      <td>15.180763</td>\n",
       "      <td>26.111087</td>\n",
       "      <td>0.050132</td>\n",
       "      <td>0.132897</td>\n",
       "      <td>0.0</td>\n",
       "      <td>0.24608</td>\n",
       "      <td>18.70502</td>\n",
       "    </tr>\n",
       "    <tr>\n",
       "      <th>min</th>\n",
       "      <td>1.00000</td>\n",
       "      <td>48.000000</td>\n",
       "      <td>31.000000</td>\n",
       "      <td>58.000000</td>\n",
       "      <td>0.604000</td>\n",
       "      <td>4.592000</td>\n",
       "      <td>6.0</td>\n",
       "      <td>27.10000</td>\n",
       "      <td>36.00000</td>\n",
       "    </tr>\n",
       "    <tr>\n",
       "      <th>25%</th>\n",
       "      <td>3.25000</td>\n",
       "      <td>49.500000</td>\n",
       "      <td>33.000000</td>\n",
       "      <td>60.250000</td>\n",
       "      <td>0.631750</td>\n",
       "      <td>4.840000</td>\n",
       "      <td>6.0</td>\n",
       "      <td>27.25000</td>\n",
       "      <td>43.75000</td>\n",
       "    </tr>\n",
       "    <tr>\n",
       "      <th>50%</th>\n",
       "      <td>5.50000</td>\n",
       "      <td>53.000000</td>\n",
       "      <td>35.000000</td>\n",
       "      <td>64.500000</td>\n",
       "      <td>0.642000</td>\n",
       "      <td>4.929000</td>\n",
       "      <td>6.0</td>\n",
       "      <td>27.50000</td>\n",
       "      <td>76.50000</td>\n",
       "    </tr>\n",
       "    <tr>\n",
       "      <th>75%</th>\n",
       "      <td>7.75000</td>\n",
       "      <td>95.750000</td>\n",
       "      <td>61.750000</td>\n",
       "      <td>110.500000</td>\n",
       "      <td>0.704250</td>\n",
       "      <td>5.000000</td>\n",
       "      <td>6.0</td>\n",
       "      <td>27.67500</td>\n",
       "      <td>77.00000</td>\n",
       "    </tr>\n",
       "    <tr>\n",
       "      <th>max</th>\n",
       "      <td>10.00000</td>\n",
       "      <td>98.000000</td>\n",
       "      <td>63.000000</td>\n",
       "      <td>114.000000</td>\n",
       "      <td>0.757000</td>\n",
       "      <td>5.000000</td>\n",
       "      <td>6.0</td>\n",
       "      <td>27.70000</td>\n",
       "      <td>78.00000</td>\n",
       "    </tr>\n",
       "  </tbody>\n",
       "</table>\n",
       "</div>"
      ],
      "text/plain": [
       "        Trial #      PM2.5      PM1.0        PM10       HCHO       TVOC   AQI  \\\n",
       "count  10.00000  10.000000  10.000000   10.000000  10.000000  10.000000  10.0   \n",
       "mean    5.50000  68.800000  44.700000   81.300000   0.664900   4.893200   6.0   \n",
       "std     3.02765  23.934169  15.180763   26.111087   0.050132   0.132897   0.0   \n",
       "min     1.00000  48.000000  31.000000   58.000000   0.604000   4.592000   6.0   \n",
       "25%     3.25000  49.500000  33.000000   60.250000   0.631750   4.840000   6.0   \n",
       "50%     5.50000  53.000000  35.000000   64.500000   0.642000   4.929000   6.0   \n",
       "75%     7.75000  95.750000  61.750000  110.500000   0.704250   5.000000   6.0   \n",
       "max    10.00000  98.000000  63.000000  114.000000   0.757000   5.000000   6.0   \n",
       "\n",
       "       Temperature  Humidity  \n",
       "count     10.00000  10.00000  \n",
       "mean      27.45000  62.90000  \n",
       "std        0.24608  18.70502  \n",
       "min       27.10000  36.00000  \n",
       "25%       27.25000  43.75000  \n",
       "50%       27.50000  76.50000  \n",
       "75%       27.67500  77.00000  \n",
       "max       27.70000  78.00000  "
      ]
     },
     "execution_count": 23,
     "metadata": {},
     "output_type": "execute_result"
    }
   ],
   "source": [
    "df.describe()"
   ]
  },
  {
   "cell_type": "code",
   "execution_count": 24,
   "metadata": {},
   "outputs": [
    {
     "data": {
      "text/plain": [
       "Index(['Trial #', 'Senario', 'PM2.5', 'PM1.0', 'PM10', 'HCHO', 'TVOC', 'AQI',\n",
       "       'Temperature', 'Humidity'],\n",
       "      dtype='object')"
      ]
     },
     "execution_count": 24,
     "metadata": {},
     "output_type": "execute_result"
    }
   ],
   "source": [
    "df.columns"
   ]
  },
  {
   "cell_type": "code",
   "execution_count": 25,
   "metadata": {},
   "outputs": [
    {
     "data": {
      "text/plain": [
       "(10, 10)"
      ]
     },
     "execution_count": 25,
     "metadata": {},
     "output_type": "execute_result"
    }
   ],
   "source": [
    "df.shape"
   ]
  },
  {
   "cell_type": "code",
   "execution_count": 26,
   "metadata": {},
   "outputs": [
    {
     "data": {
      "text/plain": [
       "Trial #        10\n",
       "Senario        10\n",
       "PM2.5          10\n",
       "PM1.0          10\n",
       "PM10           10\n",
       "HCHO           10\n",
       "TVOC           10\n",
       "AQI            10\n",
       "Temperature    10\n",
       "Humidity       10\n",
       "dtype: int64"
      ]
     },
     "execution_count": 26,
     "metadata": {},
     "output_type": "execute_result"
    }
   ],
   "source": [
    "df.count()"
   ]
  },
  {
   "cell_type": "code",
   "execution_count": 27,
   "metadata": {},
   "outputs": [
    {
     "data": {
      "text/plain": [
       "Trial #        0\n",
       "Senario        0\n",
       "PM2.5          0\n",
       "PM1.0          0\n",
       "PM10           0\n",
       "HCHO           0\n",
       "TVOC           0\n",
       "AQI            0\n",
       "Temperature    0\n",
       "Humidity       0\n",
       "dtype: int64"
      ]
     },
     "execution_count": 27,
     "metadata": {},
     "output_type": "execute_result"
    }
   ],
   "source": [
    "df.isna().sum()"
   ]
  },
  {
   "cell_type": "code",
   "execution_count": 28,
   "metadata": {},
   "outputs": [
    {
     "data": {
      "text/plain": [
       "0"
      ]
     },
     "execution_count": 28,
     "metadata": {},
     "output_type": "execute_result"
    }
   ],
   "source": [
    "df.duplicated().sum()"
   ]
  },
  {
   "cell_type": "code",
   "execution_count": 29,
   "metadata": {},
   "outputs": [
    {
     "data": {
      "text/plain": [
       "Text(0, 0.5, 'PM2.5 (ug/m^3)')"
      ]
     },
     "execution_count": 29,
     "metadata": {},
     "output_type": "execute_result"
    },
    {
     "data": {
      "image/png": "[encoded data removed]",
      "text/plain": [
       "<Figure size 400x400 with 1 Axes>"
      ]
     },
     "metadata": {},
     "output_type": "display_data"
    }
   ],
   "source": [
    "fig,ax = plt.subplots(figsize=(4,4))\n",
    "sns.barplot(x='Humidity',y='PM2.5',data=df)\n",
    "plt.title('PM2.5 Vs Humidity')\n",
    "plt.xlabel('Humidity (%)')\n",
    "plt.ylabel('PM2.5 (ug/m^3)')"
   ]
  },
  {
   "cell_type": "code",
   "execution_count": 30,
   "metadata": {},
   "outputs": [
    {
     "data": {
      "text/plain": [
       "Text(0, 0.5, 'PM1.0 (ug/m^3)')"
      ]
     },
     "execution_count": 30,
     "metadata": {},
     "output_type": "execute_result"
    },
    {
     "data": {
      "image/png": "[encoded data removed]",
      "text/plain": [
       "<Figure size 400x400 with 1 Axes>"
      ]
     },
     "metadata": {},
     "output_type": "display_data"
    }
   ],
   "source": [
    "fig,ax = plt.subplots(figsize=(4,4))\n",
    "sns.barplot(x='Humidity',y='PM1.0',data=df)\n",
    "plt.title('PM1.0 Vs Humidity')\n",
    "plt.xlabel('Humidty (%)')\n",
    "plt.ylabel('PM1.0 (ug/m^3)')"
   ]
  },
  {
   "cell_type": "code",
   "execution_count": 31,
   "metadata": {},
   "outputs": [
    {
     "data": {
      "text/plain": [
       "Text(0, 0.5, 'PM10 (ug/m^3)')"
      ]
     },
     "execution_count": 31,
     "metadata": {},
     "output_type": "execute_result"
    },
    {
     "data": {
      "image/png": "[encoded data removed]",
      "text/plain": [
       "<Figure size 400x400 with 1 Axes>"
      ]
     },
     "metadata": {},
     "output_type": "display_data"
    }
   ],
   "source": [
    "fig,ax = plt.subplots(figsize=(4,4))\n",
    "sns.barplot(x='Humidity',y='PM10',data=df)\n",
    "plt.title('PM10 Vs Humidity')\n",
    "plt.xlabel('Humidty (%)')\n",
    "plt.ylabel('PM10 (ug/m^3)')"
   ]
  },
  {
   "cell_type": "code",
   "execution_count": 32,
   "metadata": {},
   "outputs": [
    {
     "data": {
      "text/plain": [
       "Text(0, 0.5, 'TVOC (total volatile organic compounds) mg/m^3')"
      ]
     },
     "execution_count": 32,
     "metadata": {},
     "output_type": "execute_result"
    },
    {
     "data": {
      "image/png": "[encoded data removed]",
      "text/plain": [
       "<Figure size 400x400 with 1 Axes>"
      ]
     },
     "metadata": {},
     "output_type": "display_data"
    }
   ],
   "source": [
    "fig,ax = plt.subplots(figsize=(4,4))\n",
    "sns.barplot(x='Humidity',y='TVOC',data=df)\n",
    "plt.title('TVOC Vs Humidity')\n",
    "plt.xlabel('Humidty (%)')\n",
    "plt.ylabel('TVOC (total volatile organic compounds) mg/m^3')"
   ]
  }
 ],
 "metadata": {
  "kernelspec": {
   "display_name": "Python 3",
   "language": "python",
   "name": "python3"
  },
  "language_info": {
   "codemirror_mode": {
    "name": "ipython",
    "version": 3
   },
   "file_extension": ".py",
   "mimetype": "text/x-python",
   "name": "python",
   "nbconvert_exporter": "python",
   "pygments_lexer": "ipython3",
   "version": "3.9.6"
  },
  "orig_nbformat": 4
 },
 "nbformat": 4,
 "nbformat_minor": 2
}
