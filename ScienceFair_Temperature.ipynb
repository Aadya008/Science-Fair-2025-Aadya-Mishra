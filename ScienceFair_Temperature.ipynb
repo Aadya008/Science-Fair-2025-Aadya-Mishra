{
 "cells": [
  {
   "cell_type": "code",
   "execution_count": 29,
   "metadata": {},
   "outputs": [],
   "source": [
    "import pandas as pd\n",
    "import numpy as np\n",
    "import seaborn as sns\n",
    "import matplotlib.pyplot as plt\n",
    "%matplotlib inline"
   ]
  },
  {
   "cell_type": "code",
   "execution_count": 30,
   "metadata": {},
   "outputs": [],
   "source": [
    "df = pd.read_csv('Science Fair 2025 Data Document - IV_Temperature.csv')"
   ]
  },
  {
   "cell_type": "code",
   "execution_count": 31,
   "metadata": {},
   "outputs": [
    {
     "data": {
      "text/html": [
       "<div>\n",
       "<style scoped>\n",
       "    .dataframe tbody tr th:only-of-type {\n",
       "        vertical-align: middle;\n",
       "    }\n",
       "\n",
       "    .dataframe tbody tr th {\n",
       "        vertical-align: top;\n",
       "    }\n",
       "\n",
       "    .dataframe thead th {\n",
       "        text-align: right;\n",
       "    }\n",
       "</style>\n",
       "<table border=\"1\" class=\"dataframe\">\n",
       "  <thead>\n",
       "    <tr style=\"text-align: right;\">\n",
       "      <th></th>\n",
       "      <th>Trial #</th>\n",
       "      <th>Senario</th>\n",
       "      <th>PM2.5</th>\n",
       "      <th>PM1.0</th>\n",
       "      <th>PM10</th>\n",
       "      <th>HCHO</th>\n",
       "      <th>TVOC</th>\n",
       "      <th>AQI</th>\n",
       "      <th>Temperature</th>\n",
       "      <th>Humidity</th>\n",
       "    </tr>\n",
       "  </thead>\n",
       "  <tbody>\n",
       "    <tr>\n",
       "      <th>0</th>\n",
       "      <td>1</td>\n",
       "      <td>Cold Ice added for change in TEMPERATURE</td>\n",
       "      <td>35</td>\n",
       "      <td>24</td>\n",
       "      <td>40</td>\n",
       "      <td>0.011</td>\n",
       "      <td>0.0230</td>\n",
       "      <td>1</td>\n",
       "      <td>23.5</td>\n",
       "      <td>28</td>\n",
       "    </tr>\n",
       "    <tr>\n",
       "      <th>1</th>\n",
       "      <td>2</td>\n",
       "      <td>Cold Ice added for change in TEMPERATURE</td>\n",
       "      <td>34</td>\n",
       "      <td>24</td>\n",
       "      <td>39</td>\n",
       "      <td>0.010</td>\n",
       "      <td>0.0170</td>\n",
       "      <td>1</td>\n",
       "      <td>23.5</td>\n",
       "      <td>29</td>\n",
       "    </tr>\n",
       "    <tr>\n",
       "      <th>2</th>\n",
       "      <td>3</td>\n",
       "      <td>Cold Ice added for change in TEMPERATURE</td>\n",
       "      <td>33</td>\n",
       "      <td>24</td>\n",
       "      <td>36</td>\n",
       "      <td>0.008</td>\n",
       "      <td>0.0200</td>\n",
       "      <td>1</td>\n",
       "      <td>23.5</td>\n",
       "      <td>29</td>\n",
       "    </tr>\n",
       "    <tr>\n",
       "      <th>3</th>\n",
       "      <td>4</td>\n",
       "      <td>Cold Ice added for change in TEMPERATURE</td>\n",
       "      <td>34</td>\n",
       "      <td>25</td>\n",
       "      <td>37</td>\n",
       "      <td>0.012</td>\n",
       "      <td>0.0190</td>\n",
       "      <td>1</td>\n",
       "      <td>23.4</td>\n",
       "      <td>29</td>\n",
       "    </tr>\n",
       "    <tr>\n",
       "      <th>4</th>\n",
       "      <td>5</td>\n",
       "      <td>Cold Ice added for change in TEMPERATURE</td>\n",
       "      <td>33</td>\n",
       "      <td>24</td>\n",
       "      <td>37</td>\n",
       "      <td>0.110</td>\n",
       "      <td>0.0220</td>\n",
       "      <td>1</td>\n",
       "      <td>23.3</td>\n",
       "      <td>29</td>\n",
       "    </tr>\n",
       "    <tr>\n",
       "      <th>5</th>\n",
       "      <td>6</td>\n",
       "      <td>Cold Ice added for change in TEMPERATURE</td>\n",
       "      <td>33</td>\n",
       "      <td>24</td>\n",
       "      <td>39</td>\n",
       "      <td>0.008</td>\n",
       "      <td>0.0230</td>\n",
       "      <td>1</td>\n",
       "      <td>23.3</td>\n",
       "      <td>29</td>\n",
       "    </tr>\n",
       "    <tr>\n",
       "      <th>6</th>\n",
       "      <td>7</td>\n",
       "      <td>Cold Ice added for change in TEMPERATURE</td>\n",
       "      <td>33</td>\n",
       "      <td>23</td>\n",
       "      <td>36</td>\n",
       "      <td>0.007</td>\n",
       "      <td>0.0200</td>\n",
       "      <td>1</td>\n",
       "      <td>23.3</td>\n",
       "      <td>29</td>\n",
       "    </tr>\n",
       "    <tr>\n",
       "      <th>7</th>\n",
       "      <td>8</td>\n",
       "      <td>Cold Ice added for change in TEMPERATURE</td>\n",
       "      <td>32</td>\n",
       "      <td>23</td>\n",
       "      <td>36</td>\n",
       "      <td>0.012</td>\n",
       "      <td>0.0200</td>\n",
       "      <td>1</td>\n",
       "      <td>23.2</td>\n",
       "      <td>29</td>\n",
       "    </tr>\n",
       "    <tr>\n",
       "      <th>8</th>\n",
       "      <td>9</td>\n",
       "      <td>Cold Ice added for change in TEMPERATURE</td>\n",
       "      <td>33</td>\n",
       "      <td>24</td>\n",
       "      <td>38</td>\n",
       "      <td>0.006</td>\n",
       "      <td>0.0220</td>\n",
       "      <td>1</td>\n",
       "      <td>23.2</td>\n",
       "      <td>29</td>\n",
       "    </tr>\n",
       "    <tr>\n",
       "      <th>9</th>\n",
       "      <td>10</td>\n",
       "      <td>Cold Ice added for change in TEMPERATURE</td>\n",
       "      <td>30</td>\n",
       "      <td>22</td>\n",
       "      <td>35</td>\n",
       "      <td>0.006</td>\n",
       "      <td>0.0205</td>\n",
       "      <td>1</td>\n",
       "      <td>23.8</td>\n",
       "      <td>30</td>\n",
       "    </tr>\n",
       "  </tbody>\n",
       "</table>\n",
       "</div>"
      ],
      "text/plain": [
       "   Trial #                                   Senario  PM2.5  PM1.0  PM10  \\\n",
       "0        1  Cold Ice added for change in TEMPERATURE     35     24    40   \n",
       "1        2  Cold Ice added for change in TEMPERATURE     34     24    39   \n",
       "2        3  Cold Ice added for change in TEMPERATURE     33     24    36   \n",
       "3        4  Cold Ice added for change in TEMPERATURE     34     25    37   \n",
       "4        5  Cold Ice added for change in TEMPERATURE     33     24    37   \n",
       "5        6  Cold Ice added for change in TEMPERATURE     33     24    39   \n",
       "6        7  Cold Ice added for change in TEMPERATURE     33     23    36   \n",
       "7        8  Cold Ice added for change in TEMPERATURE     32     23    36   \n",
       "8        9  Cold Ice added for change in TEMPERATURE     33     24    38   \n",
       "9       10  Cold Ice added for change in TEMPERATURE     30     22    35   \n",
       "\n",
       "    HCHO    TVOC  AQI  Temperature  Humidity  \n",
       "0  0.011  0.0230    1         23.5        28  \n",
       "1  0.010  0.0170    1         23.5        29  \n",
       "2  0.008  0.0200    1         23.5        29  \n",
       "3  0.012  0.0190    1         23.4        29  \n",
       "4  0.110  0.0220    1         23.3        29  \n",
       "5  0.008  0.0230    1         23.3        29  \n",
       "6  0.007  0.0200    1         23.3        29  \n",
       "7  0.012  0.0200    1         23.2        29  \n",
       "8  0.006  0.0220    1         23.2        29  \n",
       "9  0.006  0.0205    1         23.8        30  "
      ]
     },
     "execution_count": 31,
     "metadata": {},
     "output_type": "execute_result"
    }
   ],
   "source": [
    "df.head(15)"
   ]
  },
  {
   "cell_type": "code",
   "execution_count": 32,
   "metadata": {},
   "outputs": [
    {
     "name": "stdout",
     "output_type": "stream",
     "text": [
      "<class 'pandas.core.frame.DataFrame'>\n",
      "RangeIndex: 10 entries, 0 to 9\n",
      "Data columns (total 10 columns):\n",
      " #   Column       Non-Null Count  Dtype  \n",
      "---  ------       --------------  -----  \n",
      " 0   Trial #      10 non-null     int64  \n",
      " 1   Senario      10 non-null     object \n",
      " 2   PM2.5        10 non-null     int64  \n",
      " 3   PM1.0        10 non-null     int64  \n",
      " 4   PM10         10 non-null     int64  \n",
      " 5   HCHO         10 non-null     float64\n",
      " 6   TVOC         10 non-null     float64\n",
      " 7   AQI          10 non-null     int64  \n",
      " 8   Temperature  10 non-null     float64\n",
      " 9   Humidity     10 non-null     int64  \n",
      "dtypes: float64(3), int64(6), object(1)\n",
      "memory usage: 928.0+ bytes\n"
     ]
    }
   ],
   "source": [
    "df.info()"
   ]
  },
  {
   "cell_type": "code",
   "execution_count": 33,
   "metadata": {},
   "outputs": [
    {
     "data": {
      "text/html": [
       "<div>\n",
       "<style scoped>\n",
       "    .dataframe tbody tr th:only-of-type {\n",
       "        vertical-align: middle;\n",
       "    }\n",
       "\n",
       "    .dataframe tbody tr th {\n",
       "        vertical-align: top;\n",
       "    }\n",
       "\n",
       "    .dataframe thead th {\n",
       "        text-align: right;\n",
       "    }\n",
       "</style>\n",
       "<table border=\"1\" class=\"dataframe\">\n",
       "  <thead>\n",
       "    <tr style=\"text-align: right;\">\n",
       "      <th></th>\n",
       "      <th>Trial #</th>\n",
       "      <th>PM2.5</th>\n",
       "      <th>PM1.0</th>\n",
       "      <th>PM10</th>\n",
       "      <th>HCHO</th>\n",
       "      <th>TVOC</th>\n",
       "      <th>AQI</th>\n",
       "      <th>Temperature</th>\n",
       "      <th>Humidity</th>\n",
       "    </tr>\n",
       "  </thead>\n",
       "  <tbody>\n",
       "    <tr>\n",
       "      <th>count</th>\n",
       "      <td>10.00000</td>\n",
       "      <td>10.000000</td>\n",
       "      <td>10.000000</td>\n",
       "      <td>10.000000</td>\n",
       "      <td>10.000000</td>\n",
       "      <td>10.000000</td>\n",
       "      <td>10.0</td>\n",
       "      <td>10.000000</td>\n",
       "      <td>10.000000</td>\n",
       "    </tr>\n",
       "    <tr>\n",
       "      <th>mean</th>\n",
       "      <td>5.50000</td>\n",
       "      <td>33.000000</td>\n",
       "      <td>23.700000</td>\n",
       "      <td>37.300000</td>\n",
       "      <td>0.019000</td>\n",
       "      <td>0.020650</td>\n",
       "      <td>1.0</td>\n",
       "      <td>23.400000</td>\n",
       "      <td>29.000000</td>\n",
       "    </tr>\n",
       "    <tr>\n",
       "      <th>std</th>\n",
       "      <td>3.02765</td>\n",
       "      <td>1.333333</td>\n",
       "      <td>0.823273</td>\n",
       "      <td>1.636392</td>\n",
       "      <td>0.032056</td>\n",
       "      <td>0.001886</td>\n",
       "      <td>0.0</td>\n",
       "      <td>0.182574</td>\n",
       "      <td>0.471405</td>\n",
       "    </tr>\n",
       "    <tr>\n",
       "      <th>min</th>\n",
       "      <td>1.00000</td>\n",
       "      <td>30.000000</td>\n",
       "      <td>22.000000</td>\n",
       "      <td>35.000000</td>\n",
       "      <td>0.006000</td>\n",
       "      <td>0.017000</td>\n",
       "      <td>1.0</td>\n",
       "      <td>23.200000</td>\n",
       "      <td>28.000000</td>\n",
       "    </tr>\n",
       "    <tr>\n",
       "      <th>25%</th>\n",
       "      <td>3.25000</td>\n",
       "      <td>33.000000</td>\n",
       "      <td>23.250000</td>\n",
       "      <td>36.000000</td>\n",
       "      <td>0.007250</td>\n",
       "      <td>0.020000</td>\n",
       "      <td>1.0</td>\n",
       "      <td>23.300000</td>\n",
       "      <td>29.000000</td>\n",
       "    </tr>\n",
       "    <tr>\n",
       "      <th>50%</th>\n",
       "      <td>5.50000</td>\n",
       "      <td>33.000000</td>\n",
       "      <td>24.000000</td>\n",
       "      <td>37.000000</td>\n",
       "      <td>0.009000</td>\n",
       "      <td>0.020250</td>\n",
       "      <td>1.0</td>\n",
       "      <td>23.350000</td>\n",
       "      <td>29.000000</td>\n",
       "    </tr>\n",
       "    <tr>\n",
       "      <th>75%</th>\n",
       "      <td>7.75000</td>\n",
       "      <td>33.750000</td>\n",
       "      <td>24.000000</td>\n",
       "      <td>38.750000</td>\n",
       "      <td>0.011750</td>\n",
       "      <td>0.022000</td>\n",
       "      <td>1.0</td>\n",
       "      <td>23.500000</td>\n",
       "      <td>29.000000</td>\n",
       "    </tr>\n",
       "    <tr>\n",
       "      <th>max</th>\n",
       "      <td>10.00000</td>\n",
       "      <td>35.000000</td>\n",
       "      <td>25.000000</td>\n",
       "      <td>40.000000</td>\n",
       "      <td>0.110000</td>\n",
       "      <td>0.023000</td>\n",
       "      <td>1.0</td>\n",
       "      <td>23.800000</td>\n",
       "      <td>30.000000</td>\n",
       "    </tr>\n",
       "  </tbody>\n",
       "</table>\n",
       "</div>"
      ],
      "text/plain": [
       "        Trial #      PM2.5      PM1.0       PM10       HCHO       TVOC   AQI  \\\n",
       "count  10.00000  10.000000  10.000000  10.000000  10.000000  10.000000  10.0   \n",
       "mean    5.50000  33.000000  23.700000  37.300000   0.019000   0.020650   1.0   \n",
       "std     3.02765   1.333333   0.823273   1.636392   0.032056   0.001886   0.0   \n",
       "min     1.00000  30.000000  22.000000  35.000000   0.006000   0.017000   1.0   \n",
       "25%     3.25000  33.000000  23.250000  36.000000   0.007250   0.020000   1.0   \n",
       "50%     5.50000  33.000000  24.000000  37.000000   0.009000   0.020250   1.0   \n",
       "75%     7.75000  33.750000  24.000000  38.750000   0.011750   0.022000   1.0   \n",
       "max    10.00000  35.000000  25.000000  40.000000   0.110000   0.023000   1.0   \n",
       "\n",
       "       Temperature   Humidity  \n",
       "count    10.000000  10.000000  \n",
       "mean     23.400000  29.000000  \n",
       "std       0.182574   0.471405  \n",
       "min      23.200000  28.000000  \n",
       "25%      23.300000  29.000000  \n",
       "50%      23.350000  29.000000  \n",
       "75%      23.500000  29.000000  \n",
       "max      23.800000  30.000000  "
      ]
     },
     "execution_count": 33,
     "metadata": {},
     "output_type": "execute_result"
    }
   ],
   "source": [
    "df.describe()"
   ]
  },
  {
   "cell_type": "code",
   "execution_count": 34,
   "metadata": {},
   "outputs": [
    {
     "data": {
      "text/plain": [
       "Index(['Trial #', 'Senario', 'PM2.5', 'PM1.0', 'PM10', 'HCHO', 'TVOC', 'AQI',\n",
       "       'Temperature', 'Humidity'],\n",
       "      dtype='object')"
      ]
     },
     "execution_count": 34,
     "metadata": {},
     "output_type": "execute_result"
    }
   ],
   "source": [
    "df.columns"
   ]
  },
  {
   "cell_type": "code",
   "execution_count": 35,
   "metadata": {},
   "outputs": [
    {
     "data": {
      "text/plain": [
       "(10, 10)"
      ]
     },
     "execution_count": 35,
     "metadata": {},
     "output_type": "execute_result"
    }
   ],
   "source": [
    "df.shape"
   ]
  },
  {
   "cell_type": "code",
   "execution_count": 36,
   "metadata": {},
   "outputs": [
    {
     "data": {
      "text/plain": [
       "Trial #        10\n",
       "Senario        10\n",
       "PM2.5          10\n",
       "PM1.0          10\n",
       "PM10           10\n",
       "HCHO           10\n",
       "TVOC           10\n",
       "AQI            10\n",
       "Temperature    10\n",
       "Humidity       10\n",
       "dtype: int64"
      ]
     },
     "execution_count": 36,
     "metadata": {},
     "output_type": "execute_result"
    }
   ],
   "source": [
    "df.count()"
   ]
  },
  {
   "cell_type": "code",
   "execution_count": 37,
   "metadata": {},
   "outputs": [
    {
     "data": {
      "text/plain": [
       "Trial #        0\n",
       "Senario        0\n",
       "PM2.5          0\n",
       "PM1.0          0\n",
       "PM10           0\n",
       "HCHO           0\n",
       "TVOC           0\n",
       "AQI            0\n",
       "Temperature    0\n",
       "Humidity       0\n",
       "dtype: int64"
      ]
     },
     "execution_count": 37,
     "metadata": {},
     "output_type": "execute_result"
    }
   ],
   "source": [
    "df.isna().sum()"
   ]
  },
  {
   "cell_type": "code",
   "execution_count": 38,
   "metadata": {},
   "outputs": [
    {
     "data": {
      "text/plain": [
       "0"
      ]
     },
     "execution_count": 38,
     "metadata": {},
     "output_type": "execute_result"
    }
   ],
   "source": [
    "df.duplicated().sum()"
   ]
  },
  {
   "cell_type": "code",
   "execution_count": 39,
   "metadata": {},
   "outputs": [
    {
     "data": {
      "text/plain": [
       "Text(0, 0.5, 'PM2.5 (ug/m^3)')"
      ]
     },
     "execution_count": 39,
     "metadata": {},
     "output_type": "execute_result"
    },
    {
     "data": {
      "image/png": "[encoded data removed]",
      "text/plain": [
       "<Figure size 400x400 with 1 Axes>"
      ]
     },
     "metadata": {},
     "output_type": "display_data"
    }
   ],
   "source": [
    "fig,ax = plt.subplots(figsize=(4,4))\n",
    "sns.barplot(x='Humidity',y='PM2.5',data=df)\n",
    "plt.title('PM2.5 Vs Humidity')\n",
    "plt.xlabel('Humidity')\n",
    "plt.ylabel('PM2.5 (ug/m^3)')"
   ]
  },
  {
   "cell_type": "code",
   "execution_count": 40,
   "metadata": {},
   "outputs": [
    {
     "data": {
      "text/plain": [
       "Text(0, 0.5, 'PM1.0 (ug/m^3)')"
      ]
     },
     "execution_count": 40,
     "metadata": {},
     "output_type": "execute_result"
    },
    {
     "data": {
      "image/png": "[encoded data removed]",
      "text/plain": [
       "<Figure size 400x400 with 1 Axes>"
      ]
     },
     "metadata": {},
     "output_type": "display_data"
    }
   ],
   "source": [
    "fig,ax = plt.subplots(figsize=(4,4))\n",
    "sns.barplot(x='Humidity',y='PM1.0',data=df)\n",
    "plt.title('PM1.0 Vs Humidity')\n",
    "plt.xlabel('Humidty (%)')\n",
    "plt.ylabel('PM1.0 (ug/m^3)')"
   ]
  },
  {
   "cell_type": "code",
   "execution_count": 41,
   "metadata": {},
   "outputs": [
    {
     "data": {
      "text/plain": [
       "Text(0, 0.5, 'PM10 (ug/m^3)')"
      ]
     },
     "execution_count": 41,
     "metadata": {},
     "output_type": "execute_result"
    },
    {
     "data": {
      "image/png": "[encoded data removed]",
      "text/plain": [
       "<Figure size 400x400 with 1 Axes>"
      ]
     },
     "metadata": {},
     "output_type": "display_data"
    }
   ],
   "source": [
    "fig,ax = plt.subplots(figsize=(4,4))\n",
    "sns.barplot(x='Humidity',y='PM10',data=df)\n",
    "plt.title('PM10 Vs Humidity')\n",
    "plt.xlabel('Humidty (%)')\n",
    "plt.ylabel('PM10 (ug/m^3)')"
   ]
  },
  {
   "cell_type": "code",
   "execution_count": 42,
   "metadata": {},
   "outputs": [
    {
     "data": {
      "text/plain": [
       "Text(0, 0.5, 'TVOC (total volatile organic compounds) mg/m^3')"
      ]
     },
     "execution_count": 42,
     "metadata": {},
     "output_type": "execute_result"
    },
    {
     "data": {
      "image/png": "[encoded data removed]",
      "text/plain": [
       "<Figure size 400x400 with 1 Axes>"
      ]
     },
     "metadata": {},
     "output_type": "display_data"
    }
   ],
   "source": [
    "fig,ax = plt.subplots(figsize=(4,4))\n",
    "sns.barplot(x='Humidity',y='TVOC',data=df)\n",
    "plt.title('TVOC Vs Humidity')\n",
    "plt.xlabel('Humidty (%)')\n",
    "plt.ylabel('TVOC (total volatile organic compounds) mg/m^3')"
   ]
  }
 ],
 "metadata": {
  "kernelspec": {
   "display_name": "Python 3",
   "language": "python",
   "name": "python3"
  },
  "language_info": {
   "codemirror_mode": {
    "name": "ipython",
    "version": 3
   },
   "file_extension": ".py",
   "mimetype": "text/x-python",
   "name": "python",
   "nbconvert_exporter": "python",
   "pygments_lexer": "ipython3",
   "version": "3.9.6"
  },
  "orig_nbformat": 4
 },
 "nbformat": 4,
 "nbformat_minor": 2
}
